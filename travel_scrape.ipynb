{
 "cells": [
  {
   "cell_type": "code",
   "execution_count": null,
   "metadata": {
    "collapsed": true
   },
   "outputs": [],
   "source": [
    "import pandas as pd \n",
    "from splinter import Browser\n",
    "from selenium import webdriver\n",
    "from bs4 import BeautifulSoup as bs\n",
    "import requests\n",
    "import numpy as np\n",
    "import pymongo"
   ]
  },
  {
   "cell_type": "code",
   "execution_count": null,
   "metadata": {
    "collapsed": true
   },
   "outputs": [],
   "source": [
    "#Browser setup\n",
    "lp_url = \"https://www.lonelyplanet.com/best-in-travel/countries\"\n",
    "executable_path = {\"executable_path\": \"/usr/local/bin/chromedriver\"}\n",
    "browser = Browser(\"chrome\")\n",
    "browser.visit(lp_url)"
   ]
  },
  {
   "cell_type": "code",
   "execution_count": null,
   "metadata": {},
   "outputs": [],
   "source": [
    "lp_soup = bs(browser.html, 'lxml')"
   ]
  },
  {
   "cell_type": "code",
   "execution_count": null,
   "metadata": {},
   "outputs": [],
   "source": [
    "results = lp_soup.find_all(\"h1\")"
   ]
  },
  {
   "cell_type": "code",
   "execution_count": null,
   "metadata": {
    "collapsed": true
   },
   "outputs": [],
   "source": [
    "top_countries = [result.get_text(strip=True).split('.') for result in results]\n",
    "df = pd.DataFrame(top_countries)\n",
    "df.columns=['rank', 'country']\n",
    "df = df.iloc[1:,:]"
   ]
  },
  {
   "cell_type": "code",
   "execution_count": null,
   "metadata": {},
   "outputs": [],
   "source": [
    "df['city'] = np.nan\n",
    "df['source'] = \"lonelyplanet\"\n",
    "df.columns= ['rank', 'country','city','source']"
   ]
  },
  {
   "cell_type": "code",
   "execution_count": null,
   "metadata": {},
   "outputs": [],
   "source": [
    "lp_df = df\n",
    "lp_df"
   ]
  },
  {
   "cell_type": "code",
   "execution_count": null,
   "metadata": {},
   "outputs": [],
   "source": [
    "ins_url='https://www.thisisinsider.com/the-20-most-popular-travel-destinations-in-the-world-2016-9'"
   ]
  },
  {
   "cell_type": "code",
   "execution_count": null,
   "metadata": {
    "collapsed": true
   },
   "outputs": [],
   "source": [
    "response = requests.get(ins_url)"
   ]
  },
  {
   "cell_type": "code",
   "execution_count": null,
   "metadata": {},
   "outputs": [],
   "source": [
    "ins_soup = bs(response.text, 'html.parser')\n",
    "results = ins_soup.find_all('h2', class_=\"slide-title-text\")"
   ]
  },
  {
   "cell_type": "code",
   "execution_count": null,
   "metadata": {
    "collapsed": true
   },
   "outputs": [],
   "source": [
    "data = []\n",
    "for result in results:\n",
    "    data.append(result.get_text(strip=True).replace('. ', ', ').split(\",\"))"
   ]
  },
  {
   "cell_type": "code",
   "execution_count": null,
   "metadata": {},
   "outputs": [],
   "source": [
    "ins_df = pd.DataFrame(data)"
   ]
  },
  {
   "cell_type": "code",
   "execution_count": null,
   "metadata": {},
   "outputs": [],
   "source": [
    "ins_df.loc[8]=[\"12\",\"Barcelona\", \"Spain\"]\n",
    "ins_df.loc[7]=\"13\",\"Amsterdam\", \"Netherlands\"\n",
    "ins_df.loc[14]=\"6\",\"Singapore\", \"Singapore\"\n",
    "ins_df.loc[15]=\"5\",\"New York\", \"United States of America\""
   ]
  },
  {
   "cell_type": "code",
   "execution_count": null,
   "metadata": {},
   "outputs": [],
   "source": [
    "ins_df.columns=['rank','city','country']\n",
    "ins_df['source'] = 'insidertravel'"
   ]
  },
  {
   "cell_type": "code",
   "execution_count": null,
   "metadata": {},
   "outputs": [],
   "source": [
    "ins_df[[\"rank\"]] = ins_df[[\"rank\"]].apply(pd.to_numeric)\n",
    "ins_df= ins_df.sort_values(by=\"rank\", ascending=True)\n",
    "ins_df.reset_index(drop=True)"
   ]
  },
  {
   "cell_type": "code",
   "execution_count": null,
   "metadata": {},
   "outputs": [],
   "source": [
    "# grabbed the states\n",
    "url='https://alphabetizer.flap.tv/lists/list-of-states-in-alphabetical-order.php'\n",
    "browser.visit(url)\n",
    "html=browser.html\n",
    "soup=bs(html,'lxml')"
   ]
  },
  {
   "cell_type": "code",
   "execution_count": null,
   "metadata": {
    "collapsed": true
   },
   "outputs": [],
   "source": [
    "us_states=[]\n",
    "results=soup.find_all('li')\n",
    "for x in range(len(results)):\n",
    "    us_states.append(results[x].get_text())"
   ]
  },
  {
   "cell_type": "code",
   "execution_count": null,
   "metadata": {
    "collapsed": true
   },
   "outputs": [],
   "source": [
    "#cleaned up data\n",
    "url='https://www.tripadvisor.com/TravelersChoice-Destinations-cTop-g1'\n",
    "\n",
    "browser.visit(url)\n",
    "html=browser.html\n",
    "soup=bs(html,\"html.parser\")\n",
    "rating=[]\n",
    "city=[]\n",
    "country=[]\n",
    "id=[]\n",
    "results=soup.find_all('div',class_='winnerLayer')\n",
    "for result in results:\n",
    "    rating.append(result.div.span.get_text())\n",
    "    place=result.find('div',class_='winnerName').div.a.get_text()\n",
    "    if len(place.split(',')) ==2:\n",
    "        city.append(place.split(',')[0])\n",
    "        country.append(place.split(',')[1])\n",
    "    else:\n",
    "        city.append(np.nan)\n",
    "        country.append(place.split(',')[0])\n",
    "\n",
    "for x in range(len(country)):\n",
    "    if (country[x].strip() in us_states):\n",
    "        country[x]='United States'\n",
    "        if city[x]==np.nan:\n",
    "            city[x]=country[x] \n",
    "    \n",
    "ta_df=pd.DataFrame(dict(rank=rating,city=city,country=country,source=\"trip_advisor\"))"
   ]
  },
  {
   "cell_type": "code",
   "execution_count": null,
   "metadata": {},
   "outputs": [],
   "source": [
    "#cleaned up data\n",
    "url=\"https://www.travelandleisure.com/trip-ideas/best-places-to-travel-in-2018\"\n",
    "browser.visit(url)\n",
    "html=browser.html\n",
    "soup=bs(html,'lxml')"
   ]
  },
  {
   "cell_type": "code",
   "execution_count": null,
   "metadata": {},
   "outputs": [],
   "source": [
    "country=[]\n",
    "city=[]\n",
    "counter=0\n",
    "results=soup.find_all('h3',class_='glide-slide-title')\n",
    "check_for_doubles=\"\"\n",
    "for result in results:\n",
    "    response=result.get_text()\n",
    "    \n",
    "    if check_for_doubles != response:\n",
    "        if 'The 50 Best Places' not in response:\n",
    "\n",
    "            response_split=response.strip().split(\",\")\n",
    "\n",
    "            if len(response_split)==2:\n",
    "\n",
    "                # two places added together with 'and' in country\n",
    "                first_part=response_split[0].strip()\n",
    "                second_part=response_split[1].strip()\n",
    "\n",
    "                if ' and' in second_part:\n",
    "                    \n",
    "                    second_part=second_part.split(' and')[0]\n",
    "                    \n",
    "                country.append(second_part)   \n",
    "                city.append(first_part)\n",
    "            else:\n",
    "                country.append(response_split[0].strip())\n",
    "                city.append(np.nan)\n",
    "                \n",
    "        \n",
    "        check_for_doubles=response\n",
    "for x in range(len(country)):\n",
    "    if (country[x] in us_states):\n",
    "        country[x]='United States'\n",
    "        if city[x]==np.nan:\n",
    "            city[x]=country[x]\n",
    "       \n",
    "        \n",
    "rating=[x for x in range(1,len(country)+1)]\n",
    "tl_df=pd.DataFrame(dict(rank=rating,city=city,country=country,source=\"travel and leisure\"))\n",
    "tl_df"
   ]
  },
  {
   "cell_type": "code",
   "execution_count": null,
   "metadata": {},
   "outputs": [],
   "source": [
    "frames = [lp_df,ins_df,tl_df, ta_df]\n",
    "results = pd.concat(frames, sort=True)"
   ]
  },
  {
   "cell_type": "code",
   "execution_count": null,
   "metadata": {},
   "outputs": [],
   "source": [
    "travel_data = results.reset_index(drop=True)"
   ]
  },
  {
   "cell_type": "code",
   "execution_count": null,
   "metadata": {},
   "outputs": [],
   "source": [
    "travel_data"
   ]
  },
  {
   "cell_type": "code",
   "execution_count": null,
   "metadata": {
    "collapsed": true
   },
   "outputs": [],
   "source": [
    "conn = \"mongodb://localhost:27017\"\n",
    "client = pymongo.MongoClient(conn)"
   ]
  },
  {
   "cell_type": "code",
   "execution_count": null,
   "metadata": {
    "collapsed": true
   },
   "outputs": [],
   "source": [
    "# Define database and collection\n",
    "db = client.travel_db\n",
    "collection = db.items"
   ]
  },
  {
   "cell_type": "code",
   "execution_count": null,
   "metadata": {},
   "outputs": [],
   "source": [
    "def transform_data(row):\n",
    "    data = row.to_dict()\n",
    "    collection.insert_one(data)"
   ]
  },
  {
   "cell_type": "code",
   "execution_count": null,
   "metadata": {},
   "outputs": [],
   "source": [
    "#df = df.reset_index()\n",
    "travel_data.apply(transform_data, axis=1) "
   ]
  },
  {
   "cell_type": "code",
   "execution_count": null,
   "metadata": {
    "collapsed": true
   },
   "outputs": [],
   "source": []
  }
 ],
 "metadata": {
  "kernelspec": {
   "display_name": "Python [conda env:PythonData]",
   "language": "python",
   "name": "pythondata"
  },
  "language_info": {
   "codemirror_mode": {
    "name": "ipython",
    "version": 3
   },
   "file_extension": ".py",
   "mimetype": "text/x-python",
   "name": "python",
   "nbconvert_exporter": "python",
   "pygments_lexer": "ipython3",
   "version": "3.6.3"
  }
 },
 "nbformat": 4,
 "nbformat_minor": 2
}
