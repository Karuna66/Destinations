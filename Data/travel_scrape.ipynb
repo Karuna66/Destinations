{
 "cells": [
  {
   "cell_type": "code",
   "execution_count": 94,
   "metadata": {
    "collapsed": true
   },
   "outputs": [],
   "source": [
    "import pandas as pd \n",
    "from splinter import Browser\n",
    "from selenium import webdriver\n",
    "from bs4 import BeautifulSoup as bs\n",
    "import requests\n",
    "import numpy as np\n",
    "import pymongo"
   ]
  },
  {
   "cell_type": "code",
   "execution_count": 95,
   "metadata": {
    "collapsed": true
   },
   "outputs": [],
   "source": [
    "un_url = requests.get(\"https://www.un.org/en/member-states/index.html\")\n",
    "un_soup = bs(un_url.text, 'lxml')"
   ]
  },
  {
   "cell_type": "code",
   "execution_count": 96,
   "metadata": {
    "collapsed": true
   },
   "outputs": [],
   "source": [
    "ids = un_soup.find_all(class_=\"member-state col-md-12\")\n",
    "mem_states = un_soup.find_all(class_=\"member-state-name\")\n",
    "nat_holidays = un_soup.find_all(class_=\"national-holiday\")"
   ]
  },
  {
   "cell_type": "code",
   "execution_count": 122,
   "metadata": {
    "collapsed": true
   },
   "outputs": [],
   "source": [
    "country_id = [id_['id'] for id_ in ids]\n",
    "un_members= [mem_state.get_text(strip=True) for mem_state in mem_states]\n",
    "holidays = [holiday.get_text(strip=True) for holiday in nat_holidays]"
   ]
  },
  {
   "cell_type": "code",
   "execution_count": 153,
   "metadata": {},
   "outputs": [],
   "source": [
    "if len(country_id) == len(un_members) == len(holidays):\n",
    "    df = pd.DataFrame({\n",
    "    \"country_id\": country_id,\n",
    "    \"country\": un_members,\n",
    "    \"nat_holidays\": holidays}\n",
    "    )\n",
    "    #df.set_index('country_id', inplace=True)\n",
    "else:\n",
    "    print(\"please review information\")"
   ]
  },
  {
   "cell_type": "code",
   "execution_count": 154,
   "metadata": {},
   "outputs": [],
   "source": [
    "def transform_data(row):\n",
    "    data = row.to_dict()\n",
    "    collection.insert_one(data)"
   ]
  },
  {
   "cell_type": "code",
   "execution_count": 155,
   "metadata": {},
   "outputs": [
    {
     "data": {
      "text/plain": [
       "0      None\n",
       "1      None\n",
       "2      None\n",
       "3      None\n",
       "4      None\n",
       "5      None\n",
       "6      None\n",
       "7      None\n",
       "8      None\n",
       "9      None\n",
       "10     None\n",
       "11     None\n",
       "12     None\n",
       "13     None\n",
       "14     None\n",
       "15     None\n",
       "16     None\n",
       "17     None\n",
       "18     None\n",
       "19     None\n",
       "20     None\n",
       "21     None\n",
       "22     None\n",
       "23     None\n",
       "24     None\n",
       "25     None\n",
       "26     None\n",
       "27     None\n",
       "28     None\n",
       "29     None\n",
       "       ... \n",
       "163    None\n",
       "164    None\n",
       "165    None\n",
       "166    None\n",
       "167    None\n",
       "168    None\n",
       "169    None\n",
       "170    None\n",
       "171    None\n",
       "172    None\n",
       "173    None\n",
       "174    None\n",
       "175    None\n",
       "176    None\n",
       "177    None\n",
       "178    None\n",
       "179    None\n",
       "180    None\n",
       "181    None\n",
       "182    None\n",
       "183    None\n",
       "184    None\n",
       "185    None\n",
       "186    None\n",
       "187    None\n",
       "188    None\n",
       "189    None\n",
       "190    None\n",
       "191    None\n",
       "192    None\n",
       "Length: 193, dtype: object"
      ]
     },
     "execution_count": 155,
     "metadata": {},
     "output_type": "execute_result"
    }
   ],
   "source": [
    "#df = df.reset_index()\n",
    "df.apply(transform_data, axis=1) "
   ]
  },
  {
   "cell_type": "code",
   "execution_count": null,
   "metadata": {
    "collapsed": true
   },
   "outputs": [],
   "source": []
  },
  {
   "cell_type": "code",
   "execution_count": 38,
   "metadata": {
    "collapsed": true
   },
   "outputs": [],
   "source": [
    "conn = \"mongodb://localhost:27017\"\n",
    "client = pymongo.MongoClient(conn)"
   ]
  },
  {
   "cell_type": "code",
   "execution_count": 137,
   "metadata": {},
   "outputs": [],
   "source": [
    "df = df.transpose()\n",
    "data = df.to_json()"
   ]
  },
  {
   "cell_type": "code",
   "execution_count": 138,
   "metadata": {
    "collapsed": true
   },
   "outputs": [],
   "source": [
    "# Define database and collection\n",
    "db = client.travel_db\n",
    "collection = db.items"
   ]
  },
  {
   "cell_type": "code",
   "execution_count": 130,
   "metadata": {},
   "outputs": [
    {
     "name": "stderr",
     "output_type": "stream",
     "text": [
      "/Users/tomasresendiz/anaconda3/lib/python3.6/site-packages/ipykernel_launcher.py:1: DeprecationWarning: insert is deprecated. Use insert_one or insert_many instead.\n",
      "  \"\"\"Entry point for launching an IPython kernel.\n"
     ]
    },
    {
     "data": {
      "text/plain": [
       "ObjectId('5cb52e58ee71f694a6573b60')"
      ]
     },
     "execution_count": 130,
     "metadata": {},
     "output_type": "execute_result"
    }
   ],
   "source": [
    "collection.insert(data)"
   ]
  },
  {
   "cell_type": "code",
   "execution_count": 139,
   "metadata": {},
   "outputs": [
    {
     "data": {
      "text/plain": [
       "'{\"af\":{\"country\":\"Afghanistan\",\"nat_holidays\":\"19 August (Independence Day)\"},\"al\":{\"country\":\"Albania\",\"nat_holidays\":\"28 November (Independence Day)\"},\"dz\":{\"country\":\"Algeria\",\"nat_holidays\":\"1 November\"},\"ad\":{\"country\":\"Andorra\",\"nat_holidays\":\"8 September\"},\"ao\":{\"country\":\"Angola\",\"nat_holidays\":\"11 November (Independence Day)\"},\"ag\":{\"country\":\"Antigua and Barbuda\",\"nat_holidays\":\"1 November\"},\"ar\":{\"country\":\"Argentina\",\"nat_holidays\":\"25 May\"},\"am\":{\"country\":\"Armenia\",\"nat_holidays\":\"21 September\"},\"au\":{\"country\":\"Australia\",\"nat_holidays\":\"26 January (Australia Day)\"},\"at\":{\"country\":\"Austria\",\"nat_holidays\":\"26 October\"},\"az\":{\"country\":\"Azerbaijan\",\"nat_holidays\":\"28 May\"},\"bs\":{\"country\":\"Bahamas\",\"nat_holidays\":\"10 July (Independence Day)\"},\"bh\":{\"country\":\"Bahrain\",\"nat_holidays\":\"16 December\"},\"bd\":{\"country\":\"Bangladesh\",\"nat_holidays\":\"26 March (Independence Day)\"},\"bb\":{\"country\":\"Barbados\",\"nat_holidays\":\"30 November\"},\"by\":{\"country\":\"Belarus\",\"nat_holidays\":\"3 July (Independence Day)\"},\"be\":{\"country\":\"Belgium\",\"nat_holidays\":\"21 July (National Day)\"},\"bz\":{\"country\":\"Belize\",\"nat_holidays\":\"21 September (Independence Day)\"},\"bj\":{\"country\":\"Benin\",\"nat_holidays\":\"1 August\"},\"bt\":{\"country\":\"Bhutan\",\"nat_holidays\":\"17 December (National Day)\"},\"bo\":{\"country\":\"Bolivia (Plurinational State of)\",\"nat_holidays\":\"6 August (Independence Day)\"},\"ba\":{\"country\":\"Bosnia and Herzegovina\",\"nat_holidays\":\"N\\\\/A\"},\"bw\":{\"country\":\"Botswana\",\"nat_holidays\":\"30 September\"},\"br\":{\"country\":\"Brazil\",\"nat_holidays\":\"7 September (Independence Day)\"},\"bn\":{\"country\":\"Brunei Darussalam\",\"nat_holidays\":\"23 February (National Day)\"},\"bg\":{\"country\":\"Bulgaria\",\"nat_holidays\":\"3 March (Liberation Day)\"},\"bf\":{\"country\":\"Burkina Faso\",\"nat_holidays\":\"11 December\"},\"bi\":{\"country\":\"Burundi\",\"nat_holidays\":\"1 July (Independence Day)\"},\"cv\":{\"country\":\"Cabo Verde\",\"nat_holidays\":\"5 July\"},\"kh\":{\"country\":\"Cambodia\",\"nat_holidays\":\"9 November\"},\"cm\":{\"country\":\"Cameroon\",\"nat_holidays\":\"20 May\"},\"ca\":{\"country\":\"Canada\",\"nat_holidays\":\"1 July (Canada Day)\"},\"cf\":{\"country\":\"Central African Republic\",\"nat_holidays\":\"1 December\"},\"td\":{\"country\":\"Chad\",\"nat_holidays\":\"11 August\"},\"cl\":{\"country\":\"Chile\",\"nat_holidays\":\"18 September (Independence Day)\"},\"cn\":{\"country\":\"China\",\"nat_holidays\":\"1 October (National Day)\"},\"co\":{\"country\":\"Colombia\",\"nat_holidays\":\"20 July (Independence Day)\"},\"km\":{\"country\":\"Comoros\",\"nat_holidays\":\"6 July (Independence Day)\"},\"cg\":{\"country\":\"Congo\",\"nat_holidays\":\"15 August (National Day)\"},\"cr\":{\"country\":\"Costa Rica\",\"nat_holidays\":\"15 September (Independence Day)\"},\"ci\":{\"country\":\"C\\\\u00c3\\\\u00b4te D\\'Ivoire\",\"nat_holidays\":\"7 August\"},\"hr\":{\"country\":\"Croatia\",\"nat_holidays\":\"25 June\"},\"cu\":{\"country\":\"Cuba\",\"nat_holidays\":\"1 January (Anniversary of the Revolution)\"},\"cy\":{\"country\":\"Cyprus\",\"nat_holidays\":\"1 October (Independence Day)\"},\"cz\":{\"country\":\"Czech Republic\",\"nat_holidays\":\"28 October\"},\"kp\":{\"country\":\"Democratic People\\'s Republic of Korea\",\"nat_holidays\":\"9 September (Foundation of the Democratic People\\\\u00e2\\\\u0080\\\\u0099s Republic of Korea)\"},\"cd\":{\"country\":\"Democratic Republic of the Congo\",\"nat_holidays\":\"30 June (Independence Day)\"},\"dk\":{\"country\":\"Denmark\",\"nat_holidays\":\"16 April (Birthday of the Queen)\"},\"dj\":{\"country\":\"Djibouti\",\"nat_holidays\":\"27 June\"},\"dm\":{\"country\":\"Dominica\",\"nat_holidays\":\"3 November\"},\"do\":{\"country\":\"Dominican Republic\",\"nat_holidays\":\"27 February (Independence Day)\"},\"ec\":{\"country\":\"Ecuador\",\"nat_holidays\":\"10 August (Independence Day)\"},\"eg\":{\"country\":\"Egypt\",\"nat_holidays\":\"23 July (National Day)\"},\"sv\":{\"country\":\"El Salvador\",\"nat_holidays\":\"15 September (Independence Day)\"},\"gq\":{\"country\":\"Equatorial Guinea\",\"nat_holidays\":\"12 October (Independence Day)\"},\"er\":{\"country\":\"Eritrea\",\"nat_holidays\":\"24 May (Independence Day)\"},\"ee\":{\"country\":\"Estonia\",\"nat_holidays\":\"24 February (Independence Day)\"},\"sz\":{\"country\":\"Eswatini\",\"nat_holidays\":\"6 September (Independence Day)\"},\"et\":{\"country\":\"Ethiopia\",\"nat_holidays\":\"28 May\"},\"fj\":{\"country\":\"Fiji\",\"nat_holidays\":\"10 October\"},\"fi\":{\"country\":\"Finland\",\"nat_holidays\":\"6 December (Independence Day)\"},\"fr\":{\"country\":\"France\",\"nat_holidays\":\"14 July (National Day)\"},\"ga\":{\"country\":\"Gabon\",\"nat_holidays\":\"17 August\"},\"gm\":{\"country\":\"Gambia (Republic of The)\",\"nat_holidays\":\"18 February\"},\"ge\":{\"country\":\"Georgia\",\"nat_holidays\":\"26 May (Independence Day)\"},\"de\":{\"country\":\"Germany\",\"nat_holidays\":\"3 October\"},\"gh\":{\"country\":\"Ghana\",\"nat_holidays\":\"6 March (Independence Day)\"},\"gr\":{\"country\":\"Greece\",\"nat_holidays\":\"25 March (Independence Day)\"},\"gd\":{\"country\":\"Grenada\",\"nat_holidays\":\"7 February (Independence Day)\"},\"gt\":{\"country\":\"Guatemala\",\"nat_holidays\":\"15 September (Independence Day)\"},\"gn\":{\"country\":\"Guinea\",\"nat_holidays\":\"2 October (Independence Day)\"},\"gw\":{\"country\":\"Guinea Bissau\",\"nat_holidays\":\"24 September\"},\"gy\":{\"country\":\"Guyana\",\"nat_holidays\":\"23 February\"},\"ht\":{\"country\":\"Haiti\",\"nat_holidays\":\"1 January (Independence Day)\"},\"hn\":{\"country\":\"Honduras\",\"nat_holidays\":\"15 September (Independence Day)\"},\"hu\":{\"country\":\"Hungary\",\"nat_holidays\":\"20 August\"},\"is\":{\"country\":\"Iceland\",\"nat_holidays\":\"17 June (Anniversary of the establishment of the Republic)\"},\"in\":{\"country\":\"India\",\"nat_holidays\":\"26 January (Anniversary of the proclamation of the Republic)\"},\"id\":{\"country\":\"Indonesia\",\"nat_holidays\":\"17 August (Independence Day)\"},\"ir\":{\"country\":\"Iran (Islamic Republic of)\",\"nat_holidays\":\"11 February\"},\"iq\":{\"country\":\"Iraq\",\"nat_holidays\":\"N\\\\/A\"},\"ie\":{\"country\":\"Ireland\",\"nat_holidays\":\"17 March (St. Patrick\\\\u00e2\\\\u0080\\\\u0099s Day)\"},\"il\":{\"country\":\"Israel\",\"nat_holidays\":\"3 May (Independence Day)\"},\"it\":{\"country\":\"Italy\",\"nat_holidays\":\"2 June (Anniversary of the Republic)\"},\"jm\":{\"country\":\"Jamaica\",\"nat_holidays\":\"6 August (Independence Day)\"},\"jp\":{\"country\":\"Japan\",\"nat_holidays\":\"23 December (Birthday of the Emperor)\"},\"jo\":{\"country\":\"Jordan\",\"nat_holidays\":\"25 May (Independence Day)\"},\"kz\":{\"country\":\"Kazakhstan\",\"nat_holidays\":\"16 December (Independence Day)\"},\"ke\":{\"country\":\"Kenya\",\"nat_holidays\":\"12 December\"},\"ki\":{\"country\":\"Kiribati\",\"nat_holidays\":\"12 July (Independence Day)\"},\"kw\":{\"country\":\"Kuwait\",\"nat_holidays\":\"25 February\"},\"kg\":{\"country\":\"Kyrgyzstan\",\"nat_holidays\":\"31 August (Independence Day)\"},\"la\":{\"country\":\"Lao People\\\\u00e2\\\\u0080\\\\u0099s Democratic Republic\",\"nat_holidays\":\"2 December\"},\"lv\":{\"country\":\"Latvia\",\"nat_holidays\":\"18 November (Independence Day)\"},\"lb\":{\"country\":\"Lebanon\",\"nat_holidays\":\"22 November (Independence Day)\"},\"ls\":{\"country\":\"Lesotho\",\"nat_holidays\":\"4 October\"},\"lr\":{\"country\":\"Liberia\",\"nat_holidays\":\"26 July (Independence Day)\"},\"ly\":{\"country\":\"Libya\",\"nat_holidays\":\"24 December (Independence Day)\"},\"li\":{\"country\":\"Liechtenstein\",\"nat_holidays\":\"15 August\"},\"lt\":{\"country\":\"Lithuania\",\"nat_holidays\":\"16 February (Independence Day)\"},\"lu\":{\"country\":\"Luxembourg\",\"nat_holidays\":\"23 June\"},\"mg\":{\"country\":\"Madagascar\",\"nat_holidays\":\"26 June (Independence Day)\"},\"mw\":{\"country\":\"Malawi\",\"nat_holidays\":\"6 July (Republic Day)\"},\"my\":{\"country\":\"Malaysia\",\"nat_holidays\":\"31 August\"},\"mv\":{\"country\":\"Maldives\",\"nat_holidays\":\"26 July (Independence Day)\"},\"ml\":{\"country\":\"Mali\",\"nat_holidays\":\"22 September (Independence Day)\"},\"mt\":{\"country\":\"Malta\",\"nat_holidays\":\"21 September (Independence Day)\"},\"mh\":{\"country\":\"Marshall Islands\",\"nat_holidays\":\"1 May (Constitution Day)\"},\"mr\":{\"country\":\"Mauritania\",\"nat_holidays\":\"28 November (Independence Day)\"},\"mu\":{\"country\":\"Mauritius\",\"nat_holidays\":\"12 March (Independence Day)\"},\"mx\":{\"country\":\"Mexico\",\"nat_holidays\":\"16 September (Independence Day)\"},\"fm\":{\"country\":\"Micronesia (Federated States of)\",\"nat_holidays\":\"3 November (Independence Day)\"},\"mc\":{\"country\":\"Monaco\",\"nat_holidays\":\"19 November\"},\"mn\":{\"country\":\"Mongolia\",\"nat_holidays\":\"11 July\"},\"me\":{\"country\":\"Montenegro\",\"nat_holidays\":\"N\\\\/A\"},\"ma\":{\"country\":\"Morocco\",\"nat_holidays\":\"30 July (National Day)\"},\"mz\":{\"country\":\"Mozambique\",\"nat_holidays\":\"25 June (Independence Day)\"},\"mm\":{\"country\":\"Myanmar\",\"nat_holidays\":\"4 January (Independence Day)\"},\"na\":{\"country\":\"Namibia\",\"nat_holidays\":\"21 March (Independence Day)\"},\"nr\":{\"country\":\"Nauru\",\"nat_holidays\":\"31 January (Independence Day)\"},\"np\":{\"country\":\"Nepal\",\"nat_holidays\":\"7 July (Birthday of His Majesty the King)\"},\"nl\":{\"country\":\"Netherlands\",\"nat_holidays\":\"27 April (King\\\\u00e2\\\\u0080\\\\u0099s Day)\"},\"nz\":{\"country\":\"New Zealand\",\"nat_holidays\":\"6 February (Waitangi Day)\"},\"ni\":{\"country\":\"Nicaragua\",\"nat_holidays\":\"15 September (Independence Day)\"},\"ne\":{\"country\":\"Niger\",\"nat_holidays\":\"18 December (Proclamation of the Republic)\"},\"ng\":{\"country\":\"Nigeria\",\"nat_holidays\":\"1 October (Independence Day)\"},\"mk\":{\"country\":\"North Macedonia\",\"nat_holidays\":\"2 August\"},\"no\":{\"country\":\"Norway\",\"nat_holidays\":\"17 May (Constitution Day)\"},\"om\":{\"country\":\"Oman\",\"nat_holidays\":\"18 November\"},\"pk\":{\"country\":\"Pakistan\",\"nat_holidays\":\"23 March (Pakistan Day)\"},\"pw\":{\"country\":\"Palau\",\"nat_holidays\":\"9 July (Constitution Day)\"},\"pa\":{\"country\":\"Panama\",\"nat_holidays\":\"3 November (Independence Day)\"},\"pg\":{\"country\":\"Papua New Guinea\",\"nat_holidays\":\"16 September (Independence Day)\"},\"py\":{\"country\":\"Paraguay\",\"nat_holidays\":\"15 May (Independence Day)\"},\"pe\":{\"country\":\"Peru\",\"nat_holidays\":\"28 July (Independence Day)\"},\"ph\":{\"country\":\"Philippines\",\"nat_holidays\":\"12 June (Independence Day)\"},\"pl\":{\"country\":\"Poland\",\"nat_holidays\":\"3 May (Constitution Day)\"},\"pt\":{\"country\":\"Portugal\",\"nat_holidays\":\"10 June\"},\"qa\":{\"country\":\"Qatar\",\"nat_holidays\":\"3 September\"},\"kr\":{\"country\":\"Republic of Korea\",\"nat_holidays\":\"15 August\"},\"md\":{\"country\":\"Republic of Moldova\",\"nat_holidays\":\"27 August\"},\"ro\":{\"country\":\"Romania\",\"nat_holidays\":\"1 December\"},\"ru\":{\"country\":\"Russian Federation\",\"nat_holidays\":\"12 June\"},\"rw\":{\"country\":\"Rwanda\",\"nat_holidays\":\"1 July (Independence Day)\"},\"kn\":{\"country\":\"Saint Kitts and Nevis\",\"nat_holidays\":\"19 September (Independence Day)\"},\"lc\":{\"country\":\"Saint Lucia\",\"nat_holidays\":\"22 February (Independence Day)\"},\"vc\":{\"country\":\"Saint Vincent and the Grenadines\",\"nat_holidays\":\"27 October (Independence Day)\"},\"ws\":{\"country\":\"Samoa\",\"nat_holidays\":\"1 June (Independence Celebration Day)\"},\"sm\":{\"country\":\"San Marino\",\"nat_holidays\":\"3 September\"},\"st\":{\"country\":\"Sao Tome and Principe\",\"nat_holidays\":\"12 July (Independence Day)\"},\"sa\":{\"country\":\"Saudi Arabia\",\"nat_holidays\":\"23 September\"},\"sn\":{\"country\":\"Senegal\",\"nat_holidays\":\"4 April (Independence Day)\"},\"rs\":{\"country\":\"Serbia\",\"nat_holidays\":\"15 February (Day of Statehood)\"},\"sc\":{\"country\":\"Seychelles\",\"nat_holidays\":\"18 June (Constitution Day)\"},\"sl\":{\"country\":\"Sierra Leone\",\"nat_holidays\":\"27 April (Independence Day)\"},\"sg\":{\"country\":\"Singapore\",\"nat_holidays\":\"9 August\"},\"sk\":{\"country\":\"Slovakia\",\"nat_holidays\":\"1 September (Constitution Day)\"},\"si\":{\"country\":\"Slovenia\",\"nat_holidays\":\"25 June\"},\"sb\":{\"country\":\"Solomon Islands\",\"nat_holidays\":\"7 July\"},\"so\":{\"country\":\"Somalia\",\"nat_holidays\":\"1 July\"},\"za\":{\"country\":\"South Africa\",\"nat_holidays\":\"27 April (Freedom Day)\"},\"ss\":{\"country\":\"South Sudan\",\"nat_holidays\":\"9 July\"},\"es\":{\"country\":\"Spain\",\"nat_holidays\":\"12 October\"},\"lk\":{\"country\":\"Sri Lanka\",\"nat_holidays\":\"4 February\"},\"sd\":{\"country\":\"Sudan\",\"nat_holidays\":\"1 January (Independence Day)\"},\"sr\":{\"country\":\"Suriname\",\"nat_holidays\":\"25 November (Independence Day)\"},\"se\":{\"country\":\"Sweden\",\"nat_holidays\":\"6 June\"},\"ch\":{\"country\":\"Switzerland\",\"nat_holidays\":\"1 August\"},\"sy\":{\"country\":\"Syrian Arab Republic\",\"nat_holidays\":\"17 April (Independence Day)\"},\"tj\":{\"country\":\"Tajikistan\",\"nat_holidays\":\"9 September (Independence Day)\"},\"th\":{\"country\":\"Thailand\",\"nat_holidays\":\"5 December (National Day)\"},\"tl\":{\"country\":\"Timor-Leste\",\"nat_holidays\":\"20 May\"},\"tg\":{\"country\":\"Togo\",\"nat_holidays\":\"27 April (National Day)\"},\"to\":{\"country\":\"Tonga\",\"nat_holidays\":\"4 June (Emancipation Day)\"},\"tt\":{\"country\":\"Trinidad and Tobago\",\"nat_holidays\":\"31 August\"},\"tn\":{\"country\":\"Tunisia\",\"nat_holidays\":\"20 March (Independence Day)\"},\"tr\":{\"country\":\"Turkey\",\"nat_holidays\":\"29 October (Republic Day)\"},\"tm\":{\"country\":\"Turkmenistan\",\"nat_holidays\":\"27 October (Independence Day)\"},\"tv\":{\"country\":\"Tuvalu\",\"nat_holidays\":\"1 October (Independence Day)\"},\"ug\":{\"country\":\"Uganda\",\"nat_holidays\":\"9 October (Independence Day)\"},\"ua\":{\"country\":\"Ukraine\",\"nat_holidays\":\"24 August (Independence Day)\"},\"ae\":{\"country\":\"United Arab Emirates\",\"nat_holidays\":\"2 December\"},\"gb\":{\"country\":\"United Kingdom of Great Britain and Northern Ireland\",\"nat_holidays\":\"11 June (Celebration of the birthday of Her Majesty the Queen)\"},\"tz\":{\"country\":\"United Republic of Tanzania\",\"nat_holidays\":\"26 April (Union Day)\"},\"us\":{\"country\":\"United States of America\",\"nat_holidays\":\"4 July (Independence Day)\"},\"uy\":{\"country\":\"Uruguay\",\"nat_holidays\":\"25 August (Independence Day)\"},\"uz\":{\"country\":\"Uzbekistan\",\"nat_holidays\":\"1 September (Independence Day)\"},\"vu\":{\"country\":\"Vanuatu\",\"nat_holidays\":\"30 July (Independence Day)\"},\"ve\":{\"country\":\"Venezuela, Bolivarian Republic of\",\"nat_holidays\":\"5 July (Independence Day)\"},\"vn\":{\"country\":\"Viet Nam\",\"nat_holidays\":\"2 September (Independence Day)\"},\"ye\":{\"country\":\"Yemen\",\"nat_holidays\":\"22 May\"},\"zm\":{\"country\":\"Zambia\",\"nat_holidays\":\"24 October\"},\"zw\":{\"country\":\"Zimbabwe\",\"nat_holidays\":\"18 April\"}}'"
      ]
     },
     "execution_count": 139,
     "metadata": {},
     "output_type": "execute_result"
    }
   ],
   "source": [
    "data"
   ]
  },
  {
   "cell_type": "code",
   "execution_count": null,
   "metadata": {},
   "outputs": [],
   "source": []
  },
  {
   "cell_type": "code",
   "execution_count": null,
   "metadata": {},
   "outputs": [],
   "source": []
  },
  {
   "cell_type": "code",
   "execution_count": null,
   "metadata": {
    "collapsed": true
   },
   "outputs": [],
   "source": []
  },
  {
   "cell_type": "code",
   "execution_count": null,
   "metadata": {},
   "outputs": [],
   "source": []
  },
  {
   "cell_type": "code",
   "execution_count": 90,
   "metadata": {},
   "outputs": [
    {
     "data": {
      "text/plain": [
       "'af'"
      ]
     },
     "execution_count": 90,
     "metadata": {},
     "output_type": "execute_result"
    }
   ],
   "source": [
    "ids = un_soup.find_all(class_=\"member-state col-md-12\")\n",
    "ids[0]['id']"
   ]
  },
  {
   "cell_type": "code",
   "execution_count": 92,
   "metadata": {},
   "outputs": [],
   "source": [
    "mem_states = un_soup.find_all(class_=\"member-state-name\")\n",
    "\n",
    "for name in mem_states:\n",
    "    try:\n",
    "        country = name.get_text(strip=True)\n",
    "        #un_website = name.a['href']\n",
    "        post = {\n",
    "            'country': mem_name\n",
    "            #'un_website': un_website\n",
    "        }\n",
    "        \n",
    "        collection.insert_one(post)\n",
    "        #print(post)\n",
    "    except Exception as e:\n",
    "        print(e)"
   ]
  },
  {
   "cell_type": "code",
   "execution_count": null,
   "metadata": {
    "collapsed": true
   },
   "outputs": [],
   "source": []
  },
  {
   "cell_type": "code",
   "execution_count": 11,
   "metadata": {},
   "outputs": [
    {
     "data": {
      "text/plain": [
       "'<table border=\"1\" class=\"dataframe\">  <thead>    <tr style=\"text-align: right;\">      <th></th>      <th>country</th>      <th>nat_holidays</th>    </tr>    <tr>      <th>country_id</th>      <th></th>      <th></th>    </tr>  </thead>  <tbody>    <tr>      <th>af</th>      <td>Afghanistan</td>      <td>19 August (Independence Day)</td>    </tr>    <tr>      <th>al</th>      <td>Albania</td>      <td>28 November (Independence Day)</td>    </tr>    <tr>      <th>dz</th>      <td>Algeria</td>      <td>1 November</td>    </tr>    <tr>      <th>ad</th>      <td>Andorra</td>      <td>8 September</td>    </tr>    <tr>      <th>ao</th>      <td>Angola</td>      <td>11 November (Independence Day)</td>    </tr>    <tr>      <th>ag</th>      <td>Antigua and Barbuda</td>      <td>1 November</td>    </tr>    <tr>      <th>ar</th>      <td>Argentina</td>      <td>25 May</td>    </tr>    <tr>      <th>am</th>      <td>Armenia</td>      <td>21 September</td>    </tr>    <tr>      <th>au</th>      <td>Australia</td>      <td>26 January (Australia Day)</td>    </tr>    <tr>      <th>at</th>      <td>Austria</td>      <td>26 October</td>    </tr>    <tr>      <th>az</th>      <td>Azerbaijan</td>      <td>28 May</td>    </tr>    <tr>      <th>bs</th>      <td>Bahamas</td>      <td>10 July (Independence Day)</td>    </tr>    <tr>      <th>bh</th>      <td>Bahrain</td>      <td>16 December</td>    </tr>    <tr>      <th>bd</th>      <td>Bangladesh</td>      <td>26 March (Independence Day)</td>    </tr>    <tr>      <th>bb</th>      <td>Barbados</td>      <td>30 November</td>    </tr>    <tr>      <th>by</th>      <td>Belarus</td>      <td>3 July (Independence Day)</td>    </tr>    <tr>      <th>be</th>      <td>Belgium</td>      <td>21 July (National Day)</td>    </tr>    <tr>      <th>bz</th>      <td>Belize</td>      <td>21 September (Independence Day)</td>    </tr>    <tr>      <th>bj</th>      <td>Benin</td>      <td>1 August</td>    </tr>    <tr>      <th>bt</th>      <td>Bhutan</td>      <td>17 December (National Day)</td>    </tr>    <tr>      <th>bo</th>      <td>Bolivia (Plurinational State of)</td>      <td>6 August (Independence Day)</td>    </tr>    <tr>      <th>ba</th>      <td>Bosnia and Herzegovina</td>      <td>N/A</td>    </tr>    <tr>      <th>bw</th>      <td>Botswana</td>      <td>30 September</td>    </tr>    <tr>      <th>br</th>      <td>Brazil</td>      <td>7 September (Independence Day)</td>    </tr>    <tr>      <th>bn</th>      <td>Brunei Darussalam</td>      <td>23 February (National Day)</td>    </tr>    <tr>      <th>bg</th>      <td>Bulgaria</td>      <td>3 March (Liberation Day)</td>    </tr>    <tr>      <th>bf</th>      <td>Burkina Faso</td>      <td>11 December</td>    </tr>    <tr>      <th>bi</th>      <td>Burundi</td>      <td>1 July (Independence Day)</td>    </tr>    <tr>      <th>cv</th>      <td>Cabo Verde</td>      <td>5 July</td>    </tr>    <tr>      <th>kh</th>      <td>Cambodia</td>      <td>9 November</td>    </tr>    <tr>      <th>cm</th>      <td>Cameroon</td>      <td>20 May</td>    </tr>    <tr>      <th>ca</th>      <td>Canada</td>      <td>1 July (Canada Day)</td>    </tr>    <tr>      <th>cf</th>      <td>Central African Republic</td>      <td>1 December</td>    </tr>    <tr>      <th>td</th>      <td>Chad</td>      <td>11 August</td>    </tr>    <tr>      <th>cl</th>      <td>Chile</td>      <td>18 September (Independence Day)</td>    </tr>    <tr>      <th>cn</th>      <td>China</td>      <td>1 October (National Day)</td>    </tr>    <tr>      <th>co</th>      <td>Colombia</td>      <td>20 July (Independence Day)</td>    </tr>    <tr>      <th>km</th>      <td>Comoros</td>      <td>6 July (Independence Day)</td>    </tr>    <tr>      <th>cg</th>      <td>Congo</td>      <td>15 August (National Day)</td>    </tr>    <tr>      <th>cr</th>      <td>Costa Rica</td>      <td>15 September (Independence Day)</td>    </tr>    <tr>      <th>ci</th>      <td>CÃ´te D\\'Ivoire</td>      <td>7 August</td>    </tr>    <tr>      <th>hr</th>      <td>Croatia</td>      <td>25 June</td>    </tr>    <tr>      <th>cu</th>      <td>Cuba</td>      <td>1 January (Anniversary of the Revolution)</td>    </tr>    <tr>      <th>cy</th>      <td>Cyprus</td>      <td>1 October (Independence Day)</td>    </tr>    <tr>      <th>cz</th>      <td>Czech Republic</td>      <td>28 October</td>    </tr>    <tr>      <th>kp</th>      <td>Democratic People\\'s Republic of Korea</td>      <td>9 September (Foundation of the Democratic Peop...</td>    </tr>    <tr>      <th>cd</th>      <td>Democratic Republic of the Congo</td>      <td>30 June (Independence Day)</td>    </tr>    <tr>      <th>dk</th>      <td>Denmark</td>      <td>16 April (Birthday of the Queen)</td>    </tr>    <tr>      <th>dj</th>      <td>Djibouti</td>      <td>27 June</td>    </tr>    <tr>      <th>dm</th>      <td>Dominica</td>      <td>3 November</td>    </tr>    <tr>      <th>do</th>      <td>Dominican Republic</td>      <td>27 February (Independence Day)</td>    </tr>    <tr>      <th>ec</th>      <td>Ecuador</td>      <td>10 August (Independence Day)</td>    </tr>    <tr>      <th>eg</th>      <td>Egypt</td>      <td>23 July (National Day)</td>    </tr>    <tr>      <th>sv</th>      <td>El Salvador</td>      <td>15 September (Independence Day)</td>    </tr>    <tr>      <th>gq</th>      <td>Equatorial Guinea</td>      <td>12 October (Independence Day)</td>    </tr>    <tr>      <th>er</th>      <td>Eritrea</td>      <td>24 May (Independence Day)</td>    </tr>    <tr>      <th>ee</th>      <td>Estonia</td>      <td>24 February (Independence Day)</td>    </tr>    <tr>      <th>sz</th>      <td>Eswatini</td>      <td>6 September (Independence Day)</td>    </tr>    <tr>      <th>et</th>      <td>Ethiopia</td>      <td>28 May</td>    </tr>    <tr>      <th>fj</th>      <td>Fiji</td>      <td>10 October</td>    </tr>    <tr>      <th>fi</th>      <td>Finland</td>      <td>6 December (Independence Day)</td>    </tr>    <tr>      <th>fr</th>      <td>France</td>      <td>14 July (National Day)</td>    </tr>    <tr>      <th>ga</th>      <td>Gabon</td>      <td>17 August</td>    </tr>    <tr>      <th>gm</th>      <td>Gambia (Republic of The)</td>      <td>18 February</td>    </tr>    <tr>      <th>ge</th>      <td>Georgia</td>      <td>26 May (Independence Day)</td>    </tr>    <tr>      <th>de</th>      <td>Germany</td>      <td>3 October</td>    </tr>    <tr>      <th>gh</th>      <td>Ghana</td>      <td>6 March (Independence Day)</td>    </tr>    <tr>      <th>gr</th>      <td>Greece</td>      <td>25 March (Independence Day)</td>    </tr>    <tr>      <th>gd</th>      <td>Grenada</td>      <td>7 February (Independence Day)</td>    </tr>    <tr>      <th>gt</th>      <td>Guatemala</td>      <td>15 September (Independence Day)</td>    </tr>    <tr>      <th>gn</th>      <td>Guinea</td>      <td>2 October (Independence Day)</td>    </tr>    <tr>      <th>gw</th>      <td>Guinea Bissau</td>      <td>24 September</td>    </tr>    <tr>      <th>gy</th>      <td>Guyana</td>      <td>23 February</td>    </tr>    <tr>      <th>ht</th>      <td>Haiti</td>      <td>1 January (Independence Day)</td>    </tr>    <tr>      <th>hn</th>      <td>Honduras</td>      <td>15 September (Independence Day)</td>    </tr>    <tr>      <th>hu</th>      <td>Hungary</td>      <td>20 August</td>    </tr>    <tr>      <th>is</th>      <td>Iceland</td>      <td>17 June (Anniversary of the establishment of t...</td>    </tr>    <tr>      <th>in</th>      <td>India</td>      <td>26 January (Anniversary of the proclamation of...</td>    </tr>    <tr>      <th>id</th>      <td>Indonesia</td>      <td>17 August (Independence Day)</td>    </tr>    <tr>      <th>ir</th>      <td>Iran (Islamic Republic of)</td>      <td>11 February</td>    </tr>    <tr>      <th>iq</th>      <td>Iraq</td>      <td>N/A</td>    </tr>    <tr>      <th>ie</th>      <td>Ireland</td>      <td>17 March (St. Patrickâ\\x80\\x99s Day)</td>    </tr>    <tr>      <th>il</th>      <td>Israel</td>      <td>3 May (Independence Day)</td>    </tr>    <tr>      <th>it</th>      <td>Italy</td>      <td>2 June (Anniversary of the Republic)</td>    </tr>    <tr>      <th>jm</th>      <td>Jamaica</td>      <td>6 August (Independence Day)</td>    </tr>    <tr>      <th>jp</th>      <td>Japan</td>      <td>23 December (Birthday of the Emperor)</td>    </tr>    <tr>      <th>jo</th>      <td>Jordan</td>      <td>25 May (Independence Day)</td>    </tr>    <tr>      <th>kz</th>      <td>Kazakhstan</td>      <td>16 December (Independence Day)</td>    </tr>    <tr>      <th>ke</th>      <td>Kenya</td>      <td>12 December</td>    </tr>    <tr>      <th>ki</th>      <td>Kiribati</td>      <td>12 July (Independence Day)</td>    </tr>    <tr>      <th>kw</th>      <td>Kuwait</td>      <td>25 February</td>    </tr>    <tr>      <th>kg</th>      <td>Kyrgyzstan</td>      <td>31 August (Independence Day)</td>    </tr>    <tr>      <th>la</th>      <td>Lao Peopleâ\\x80\\x99s Democratic Republic</td>      <td>2 December</td>    </tr>    <tr>      <th>lv</th>      <td>Latvia</td>      <td>18 November (Independence Day)</td>    </tr>    <tr>      <th>lb</th>      <td>Lebanon</td>      <td>22 November (Independence Day)</td>    </tr>    <tr>      <th>ls</th>      <td>Lesotho</td>      <td>4 October</td>    </tr>    <tr>      <th>lr</th>      <td>Liberia</td>      <td>26 July (Independence Day)</td>    </tr>    <tr>      <th>ly</th>      <td>Libya</td>      <td>24 December (Independence Day)</td>    </tr>    <tr>      <th>li</th>      <td>Liechtenstein</td>      <td>15 August</td>    </tr>    <tr>      <th>lt</th>      <td>Lithuania</td>      <td>16 February (Independence Day)</td>    </tr>    <tr>      <th>lu</th>      <td>Luxembourg</td>      <td>23 June</td>    </tr>    <tr>      <th>mg</th>      <td>Madagascar</td>      <td>26 June (Independence Day)</td>    </tr>    <tr>      <th>mw</th>      <td>Malawi</td>      <td>6 July (Republic Day)</td>    </tr>    <tr>      <th>my</th>      <td>Malaysia</td>      <td>31 August</td>    </tr>    <tr>      <th>mv</th>      <td>Maldives</td>      <td>26 July (Independence Day)</td>    </tr>    <tr>      <th>ml</th>      <td>Mali</td>      <td>22 September (Independence Day)</td>    </tr>    <tr>      <th>mt</th>      <td>Malta</td>      <td>21 September (Independence Day)</td>    </tr>    <tr>      <th>mh</th>      <td>Marshall Islands</td>      <td>1 May (Constitution Day)</td>    </tr>    <tr>      <th>mr</th>      <td>Mauritania</td>      <td>28 November (Independence Day)</td>    </tr>    <tr>      <th>mu</th>      <td>Mauritius</td>      <td>12 March (Independence Day)</td>    </tr>    <tr>      <th>mx</th>      <td>Mexico</td>      <td>16 September (Independence Day)</td>    </tr>    <tr>      <th>fm</th>      <td>Micronesia (Federated States of)</td>      <td>3 November (Independence Day)</td>    </tr>    <tr>      <th>mc</th>      <td>Monaco</td>      <td>19 November</td>    </tr>    <tr>      <th>mn</th>      <td>Mongolia</td>      <td>11 July</td>    </tr>    <tr>      <th>me</th>      <td>Montenegro</td>      <td>N/A</td>    </tr>    <tr>      <th>ma</th>      <td>Morocco</td>      <td>30 July (National Day)</td>    </tr>    <tr>      <th>mz</th>      <td>Mozambique</td>      <td>25 June (Independence Day)</td>    </tr>    <tr>      <th>mm</th>      <td>Myanmar</td>      <td>4 January (Independence Day)</td>    </tr>    <tr>      <th>na</th>      <td>Namibia</td>      <td>21 March (Independence Day)</td>    </tr>    <tr>      <th>nr</th>      <td>Nauru</td>      <td>31 January (Independence Day)</td>    </tr>    <tr>      <th>np</th>      <td>Nepal</td>      <td>7 July (Birthday of His Majesty the King)</td>    </tr>    <tr>      <th>nl</th>      <td>Netherlands</td>      <td>27 April (Kingâ\\x80\\x99s Day)</td>    </tr>    <tr>      <th>nz</th>      <td>New Zealand</td>      <td>6 February (Waitangi Day)</td>    </tr>    <tr>      <th>ni</th>      <td>Nicaragua</td>      <td>15 September (Independence Day)</td>    </tr>    <tr>      <th>ne</th>      <td>Niger</td>      <td>18 December (Proclamation of the Republic)</td>    </tr>    <tr>      <th>ng</th>      <td>Nigeria</td>      <td>1 October (Independence Day)</td>    </tr>    <tr>      <th>mk</th>      <td>North Macedonia</td>      <td>2 August</td>    </tr>    <tr>      <th>no</th>      <td>Norway</td>      <td>17 May (Constitution Day)</td>    </tr>    <tr>      <th>om</th>      <td>Oman</td>      <td>18 November</td>    </tr>    <tr>      <th>pk</th>      <td>Pakistan</td>      <td>23 March (Pakistan Day)</td>    </tr>    <tr>      <th>pw</th>      <td>Palau</td>      <td>9 July (Constitution Day)</td>    </tr>    <tr>      <th>pa</th>      <td>Panama</td>      <td>3 November (Independence Day)</td>    </tr>    <tr>      <th>pg</th>      <td>Papua New Guinea</td>      <td>16 September (Independence Day)</td>    </tr>    <tr>      <th>py</th>      <td>Paraguay</td>      <td>15 May (Independence Day)</td>    </tr>    <tr>      <th>pe</th>      <td>Peru</td>      <td>28 July (Independence Day)</td>    </tr>    <tr>      <th>ph</th>      <td>Philippines</td>      <td>12 June (Independence Day)</td>    </tr>    <tr>      <th>pl</th>      <td>Poland</td>      <td>3 May (Constitution Day)</td>    </tr>    <tr>      <th>pt</th>      <td>Portugal</td>      <td>10 June</td>    </tr>    <tr>      <th>qa</th>      <td>Qatar</td>      <td>3 September</td>    </tr>    <tr>      <th>kr</th>      <td>Republic of Korea</td>      <td>15 August</td>    </tr>    <tr>      <th>md</th>      <td>Republic of Moldova</td>      <td>27 August</td>    </tr>    <tr>      <th>ro</th>      <td>Romania</td>      <td>1 December</td>    </tr>    <tr>      <th>ru</th>      <td>Russian Federation</td>      <td>12 June</td>    </tr>    <tr>      <th>rw</th>      <td>Rwanda</td>      <td>1 July (Independence Day)</td>    </tr>    <tr>      <th>kn</th>      <td>Saint Kitts and Nevis</td>      <td>19 September (Independence Day)</td>    </tr>    <tr>      <th>lc</th>      <td>Saint Lucia</td>      <td>22 February (Independence Day)</td>    </tr>    <tr>      <th>vc</th>      <td>Saint Vincent and the Grenadines</td>      <td>27 October (Independence Day)</td>    </tr>    <tr>      <th>ws</th>      <td>Samoa</td>      <td>1 June (Independence Celebration Day)</td>    </tr>    <tr>      <th>sm</th>      <td>San Marino</td>      <td>3 September</td>    </tr>    <tr>      <th>st</th>      <td>Sao Tome and Principe</td>      <td>12 July (Independence Day)</td>    </tr>    <tr>      <th>sa</th>      <td>Saudi Arabia</td>      <td>23 September</td>    </tr>    <tr>      <th>sn</th>      <td>Senegal</td>      <td>4 April (Independence Day)</td>    </tr>    <tr>      <th>rs</th>      <td>Serbia</td>      <td>15 February (Day of Statehood)</td>    </tr>    <tr>      <th>sc</th>      <td>Seychelles</td>      <td>18 June (Constitution Day)</td>    </tr>    <tr>      <th>sl</th>      <td>Sierra Leone</td>      <td>27 April (Independence Day)</td>    </tr>    <tr>      <th>sg</th>      <td>Singapore</td>      <td>9 August</td>    </tr>    <tr>      <th>sk</th>      <td>Slovakia</td>      <td>1 September (Constitution Day)</td>    </tr>    <tr>      <th>si</th>      <td>Slovenia</td>      <td>25 June</td>    </tr>    <tr>      <th>sb</th>      <td>Solomon Islands</td>      <td>7 July</td>    </tr>    <tr>      <th>so</th>      <td>Somalia</td>      <td>1 July</td>    </tr>    <tr>      <th>za</th>      <td>South Africa</td>      <td>27 April (Freedom Day)</td>    </tr>    <tr>      <th>ss</th>      <td>South Sudan</td>      <td>9 July</td>    </tr>    <tr>      <th>es</th>      <td>Spain</td>      <td>12 October</td>    </tr>    <tr>      <th>lk</th>      <td>Sri Lanka</td>      <td>4 February</td>    </tr>    <tr>      <th>sd</th>      <td>Sudan</td>      <td>1 January (Independence Day)</td>    </tr>    <tr>      <th>sr</th>      <td>Suriname</td>      <td>25 November (Independence Day)</td>    </tr>    <tr>      <th>se</th>      <td>Sweden</td>      <td>6 June</td>    </tr>    <tr>      <th>ch</th>      <td>Switzerland</td>      <td>1 August</td>    </tr>    <tr>      <th>sy</th>      <td>Syrian Arab Republic</td>      <td>17 April (Independence Day)</td>    </tr>    <tr>      <th>tj</th>      <td>Tajikistan</td>      <td>9 September (Independence Day)</td>    </tr>    <tr>      <th>th</th>      <td>Thailand</td>      <td>5 December (National Day)</td>    </tr>    <tr>      <th>tl</th>      <td>Timor-Leste</td>      <td>20 May</td>    </tr>    <tr>      <th>tg</th>      <td>Togo</td>      <td>27 April (National Day)</td>    </tr>    <tr>      <th>to</th>      <td>Tonga</td>      <td>4 June (Emancipation Day)</td>    </tr>    <tr>      <th>tt</th>      <td>Trinidad and Tobago</td>      <td>31 August</td>    </tr>    <tr>      <th>tn</th>      <td>Tunisia</td>      <td>20 March (Independence Day)</td>    </tr>    <tr>      <th>tr</th>      <td>Turkey</td>      <td>29 October (Republic Day)</td>    </tr>    <tr>      <th>tm</th>      <td>Turkmenistan</td>      <td>27 October (Independence Day)</td>    </tr>    <tr>      <th>tv</th>      <td>Tuvalu</td>      <td>1 October (Independence Day)</td>    </tr>    <tr>      <th>ug</th>      <td>Uganda</td>      <td>9 October (Independence Day)</td>    </tr>    <tr>      <th>ua</th>      <td>Ukraine</td>      <td>24 August (Independence Day)</td>    </tr>    <tr>      <th>ae</th>      <td>United Arab Emirates</td>      <td>2 December</td>    </tr>    <tr>      <th>gb</th>      <td>United Kingdom of Great Britain and Northern I...</td>      <td>11 June (Celebration of the birthday of Her Ma...</td>    </tr>    <tr>      <th>tz</th>      <td>United Republic of Tanzania</td>      <td>26 April (Union Day)</td>    </tr>    <tr>      <th>us</th>      <td>United States of America</td>      <td>4 July (Independence Day)</td>    </tr>    <tr>      <th>uy</th>      <td>Uruguay</td>      <td>25 August (Independence Day)</td>    </tr>    <tr>      <th>uz</th>      <td>Uzbekistan</td>      <td>1 September (Independence Day)</td>    </tr>    <tr>      <th>vu</th>      <td>Vanuatu</td>      <td>30 July (Independence Day)</td>    </tr>    <tr>      <th>ve</th>      <td>Venezuela, Bolivarian Republic of</td>      <td>5 July (Independence Day)</td>    </tr>    <tr>      <th>vn</th>      <td>Viet Nam</td>      <td>2 September (Independence Day)</td>    </tr>    <tr>      <th>ye</th>      <td>Yemen</td>      <td>22 May</td>    </tr>    <tr>      <th>zm</th>      <td>Zambia</td>      <td>24 October</td>    </tr>    <tr>      <th>zw</th>      <td>Zimbabwe</td>      <td>18 April</td>    </tr>  </tbody></table>'"
      ]
     },
     "execution_count": 11,
     "metadata": {},
     "output_type": "execute_result"
    }
   ],
   "source": [
    "a = df.to_html(index=True)\n",
    "a.replace('\\n', '')\n"
   ]
  },
  {
   "cell_type": "code",
   "execution_count": 51,
   "metadata": {
    "collapsed": true
   },
   "outputs": [],
   "source": [
    "lp_url = requests.get(\"https://www.lonelyplanet.com/best-in-travel/countries\")\n",
    "#lp_url = \"https://www.lonelyplanet.com/best-in-travel/countries\""
   ]
  },
  {
   "cell_type": "code",
   "execution_count": 52,
   "metadata": {},
   "outputs": [
    {
     "name": "stdout",
     "output_type": "stream",
     "text": [
      "<Response [403]>\n"
     ]
    }
   ],
   "source": [
    "print(lp_url)"
   ]
  },
  {
   "cell_type": "code",
   "execution_count": 322,
   "metadata": {
    "collapsed": true
   },
   "outputs": [],
   "source": [
    "lp_soup = bs(lp_url.text, 'lxml')"
   ]
  },
  {
   "cell_type": "code",
   "execution_count": 323,
   "metadata": {
    "collapsed": true
   },
   "outputs": [],
   "source": [
    "#soup = bs(browser.html, \"lxml\")\n",
    "results = soup.find_all(\"h1\")"
   ]
  },
  {
   "cell_type": "code",
   "execution_count": 324,
   "metadata": {
    "collapsed": true
   },
   "outputs": [],
   "source": [
    "top_countries = [result.get_text(strip=True).split('.') for result in results]\n",
    "df = pd.DataFrame(top_countries)\n",
    "df.columns=['rank', 'country']\n",
    "df = df.iloc[1:,:]"
   ]
  },
  {
   "cell_type": "code",
   "execution_count": 325,
   "metadata": {
    "collapsed": true
   },
   "outputs": [],
   "source": [
    "df['city'] = np.nan\n",
    "df['source'] = \"lonelyplanet\"\n",
    "df.set_index('country', inplace=True)"
   ]
  },
  {
   "cell_type": "code",
   "execution_count": 326,
   "metadata": {},
   "outputs": [
    {
     "data": {
      "text/html": [
       "<div>\n",
       "<style scoped>\n",
       "    .dataframe tbody tr th:only-of-type {\n",
       "        vertical-align: middle;\n",
       "    }\n",
       "\n",
       "    .dataframe tbody tr th {\n",
       "        vertical-align: top;\n",
       "    }\n",
       "\n",
       "    .dataframe thead th {\n",
       "        text-align: right;\n",
       "    }\n",
       "</style>\n",
       "<table border=\"1\" class=\"dataframe\">\n",
       "  <thead>\n",
       "    <tr style=\"text-align: right;\">\n",
       "      <th></th>\n",
       "      <th>rank</th>\n",
       "      <th>city</th>\n",
       "      <th>source</th>\n",
       "    </tr>\n",
       "    <tr>\n",
       "      <th>country</th>\n",
       "      <th></th>\n",
       "      <th></th>\n",
       "      <th></th>\n",
       "    </tr>\n",
       "  </thead>\n",
       "  <tbody>\n",
       "    <tr>\n",
       "      <th>Sri Lanka</th>\n",
       "      <td>1</td>\n",
       "      <td>NaN</td>\n",
       "      <td>lonelyplanet</td>\n",
       "    </tr>\n",
       "    <tr>\n",
       "      <th>Germany</th>\n",
       "      <td>2</td>\n",
       "      <td>NaN</td>\n",
       "      <td>lonelyplanet</td>\n",
       "    </tr>\n",
       "    <tr>\n",
       "      <th>Zimbabwe</th>\n",
       "      <td>3</td>\n",
       "      <td>NaN</td>\n",
       "      <td>lonelyplanet</td>\n",
       "    </tr>\n",
       "    <tr>\n",
       "      <th>Panama</th>\n",
       "      <td>4</td>\n",
       "      <td>NaN</td>\n",
       "      <td>lonelyplanet</td>\n",
       "    </tr>\n",
       "    <tr>\n",
       "      <th>Kyrgyzstan</th>\n",
       "      <td>5</td>\n",
       "      <td>NaN</td>\n",
       "      <td>lonelyplanet</td>\n",
       "    </tr>\n",
       "    <tr>\n",
       "      <th>Jordan</th>\n",
       "      <td>6</td>\n",
       "      <td>NaN</td>\n",
       "      <td>lonelyplanet</td>\n",
       "    </tr>\n",
       "    <tr>\n",
       "      <th>Indonesia</th>\n",
       "      <td>7</td>\n",
       "      <td>NaN</td>\n",
       "      <td>lonelyplanet</td>\n",
       "    </tr>\n",
       "    <tr>\n",
       "      <th>Belarus</th>\n",
       "      <td>8</td>\n",
       "      <td>NaN</td>\n",
       "      <td>lonelyplanet</td>\n",
       "    </tr>\n",
       "    <tr>\n",
       "      <th>São Tomé &amp; Príncipe</th>\n",
       "      <td>9</td>\n",
       "      <td>NaN</td>\n",
       "      <td>lonelyplanet</td>\n",
       "    </tr>\n",
       "    <tr>\n",
       "      <th>Belize</th>\n",
       "      <td>10</td>\n",
       "      <td>NaN</td>\n",
       "      <td>lonelyplanet</td>\n",
       "    </tr>\n",
       "  </tbody>\n",
       "</table>\n",
       "</div>"
      ],
      "text/plain": [
       "                    rank  city        source\n",
       "country                                     \n",
       "Sri Lanka              1   NaN  lonelyplanet\n",
       "Germany                2   NaN  lonelyplanet\n",
       "Zimbabwe               3   NaN  lonelyplanet\n",
       "Panama                 4   NaN  lonelyplanet\n",
       "Kyrgyzstan             5   NaN  lonelyplanet\n",
       "Jordan                 6   NaN  lonelyplanet\n",
       "Indonesia              7   NaN  lonelyplanet\n",
       "Belarus                8   NaN  lonelyplanet\n",
       "São Tomé & Príncipe    9   NaN  lonelyplanet\n",
       "Belize                10   NaN  lonelyplanet"
      ]
     },
     "execution_count": 326,
     "metadata": {},
     "output_type": "execute_result"
    }
   ],
   "source": [
    "df"
   ]
  },
  {
   "cell_type": "code",
   "execution_count": 127,
   "metadata": {
    "collapsed": true
   },
   "outputs": [],
   "source": []
  },
  {
   "cell_type": "code",
   "execution_count": 315,
   "metadata": {
    "collapsed": true
   },
   "outputs": [],
   "source": [
    "#Browser setup\n",
    "executable_path = {\"executable_path\": \"/usr/local/bin/chromedriver\"}\n",
    "browser = Browser(\"chrome\")\n",
    "browser.visit(lp_url)"
   ]
  },
  {
   "cell_type": "code",
   "execution_count": 128,
   "metadata": {
    "collapsed": true
   },
   "outputs": [],
   "source": []
  },
  {
   "cell_type": "code",
   "execution_count": 129,
   "metadata": {
    "collapsed": true
   },
   "outputs": [],
   "source": []
  },
  {
   "cell_type": "code",
   "execution_count": 130,
   "metadata": {
    "collapsed": true
   },
   "outputs": [],
   "source": []
  },
  {
   "cell_type": "code",
   "execution_count": 131,
   "metadata": {},
   "outputs": [
    {
     "data": {
      "text/html": [
       "<div>\n",
       "<style scoped>\n",
       "    .dataframe tbody tr th:only-of-type {\n",
       "        vertical-align: middle;\n",
       "    }\n",
       "\n",
       "    .dataframe tbody tr th {\n",
       "        vertical-align: top;\n",
       "    }\n",
       "\n",
       "    .dataframe thead th {\n",
       "        text-align: right;\n",
       "    }\n",
       "</style>\n",
       "<table border=\"1\" class=\"dataframe\">\n",
       "  <thead>\n",
       "    <tr style=\"text-align: right;\">\n",
       "      <th></th>\n",
       "      <th>rank</th>\n",
       "      <th>city</th>\n",
       "      <th>source</th>\n",
       "    </tr>\n",
       "    <tr>\n",
       "      <th>country</th>\n",
       "      <th></th>\n",
       "      <th></th>\n",
       "      <th></th>\n",
       "    </tr>\n",
       "  </thead>\n",
       "  <tbody>\n",
       "    <tr>\n",
       "      <th>Sri Lanka</th>\n",
       "      <td>1</td>\n",
       "      <td>NaN</td>\n",
       "      <td>lonelyplanet</td>\n",
       "    </tr>\n",
       "    <tr>\n",
       "      <th>Germany</th>\n",
       "      <td>2</td>\n",
       "      <td>NaN</td>\n",
       "      <td>lonelyplanet</td>\n",
       "    </tr>\n",
       "    <tr>\n",
       "      <th>Zimbabwe</th>\n",
       "      <td>3</td>\n",
       "      <td>NaN</td>\n",
       "      <td>lonelyplanet</td>\n",
       "    </tr>\n",
       "    <tr>\n",
       "      <th>Panama</th>\n",
       "      <td>4</td>\n",
       "      <td>NaN</td>\n",
       "      <td>lonelyplanet</td>\n",
       "    </tr>\n",
       "    <tr>\n",
       "      <th>Kyrgyzstan</th>\n",
       "      <td>5</td>\n",
       "      <td>NaN</td>\n",
       "      <td>lonelyplanet</td>\n",
       "    </tr>\n",
       "    <tr>\n",
       "      <th>Jordan</th>\n",
       "      <td>6</td>\n",
       "      <td>NaN</td>\n",
       "      <td>lonelyplanet</td>\n",
       "    </tr>\n",
       "    <tr>\n",
       "      <th>Indonesia</th>\n",
       "      <td>7</td>\n",
       "      <td>NaN</td>\n",
       "      <td>lonelyplanet</td>\n",
       "    </tr>\n",
       "    <tr>\n",
       "      <th>Belarus</th>\n",
       "      <td>8</td>\n",
       "      <td>NaN</td>\n",
       "      <td>lonelyplanet</td>\n",
       "    </tr>\n",
       "    <tr>\n",
       "      <th>São Tomé &amp; Príncipe</th>\n",
       "      <td>9</td>\n",
       "      <td>NaN</td>\n",
       "      <td>lonelyplanet</td>\n",
       "    </tr>\n",
       "    <tr>\n",
       "      <th>Belize</th>\n",
       "      <td>10</td>\n",
       "      <td>NaN</td>\n",
       "      <td>lonelyplanet</td>\n",
       "    </tr>\n",
       "  </tbody>\n",
       "</table>\n",
       "</div>"
      ],
      "text/plain": [
       "                    rank  city        source\n",
       "country                                     \n",
       "Sri Lanka              1   NaN  lonelyplanet\n",
       "Germany                2   NaN  lonelyplanet\n",
       "Zimbabwe               3   NaN  lonelyplanet\n",
       "Panama                 4   NaN  lonelyplanet\n",
       "Kyrgyzstan             5   NaN  lonelyplanet\n",
       "Jordan                 6   NaN  lonelyplanet\n",
       "Indonesia              7   NaN  lonelyplanet\n",
       "Belarus                8   NaN  lonelyplanet\n",
       "São Tomé & Príncipe    9   NaN  lonelyplanet\n",
       "Belize                10   NaN  lonelyplanet"
      ]
     },
     "execution_count": 131,
     "metadata": {},
     "output_type": "execute_result"
    }
   ],
   "source": []
  },
  {
   "cell_type": "code",
   "execution_count": 28,
   "metadata": {
    "collapsed": true
   },
   "outputs": [],
   "source": [
    "df.set_index('Rank', inplace=True)"
   ]
  },
  {
   "cell_type": "code",
   "execution_count": 29,
   "metadata": {},
   "outputs": [
    {
     "data": {
      "text/html": [
       "<div>\n",
       "<style scoped>\n",
       "    .dataframe tbody tr th:only-of-type {\n",
       "        vertical-align: middle;\n",
       "    }\n",
       "\n",
       "    .dataframe tbody tr th {\n",
       "        vertical-align: top;\n",
       "    }\n",
       "\n",
       "    .dataframe thead th {\n",
       "        text-align: right;\n",
       "    }\n",
       "</style>\n",
       "<table border=\"1\" class=\"dataframe\">\n",
       "  <thead>\n",
       "    <tr style=\"text-align: right;\">\n",
       "      <th></th>\n",
       "      <th>Country</th>\n",
       "    </tr>\n",
       "    <tr>\n",
       "      <th>Rank</th>\n",
       "      <th></th>\n",
       "    </tr>\n",
       "  </thead>\n",
       "  <tbody>\n",
       "    <tr>\n",
       "      <th>1</th>\n",
       "      <td>Sri Lanka</td>\n",
       "    </tr>\n",
       "    <tr>\n",
       "      <th>2</th>\n",
       "      <td>Germany</td>\n",
       "    </tr>\n",
       "    <tr>\n",
       "      <th>3</th>\n",
       "      <td>Zimbabwe</td>\n",
       "    </tr>\n",
       "    <tr>\n",
       "      <th>4</th>\n",
       "      <td>Panama</td>\n",
       "    </tr>\n",
       "    <tr>\n",
       "      <th>5</th>\n",
       "      <td>Kyrgyzstan</td>\n",
       "    </tr>\n",
       "    <tr>\n",
       "      <th>6</th>\n",
       "      <td>Jordan</td>\n",
       "    </tr>\n",
       "    <tr>\n",
       "      <th>7</th>\n",
       "      <td>Indonesia</td>\n",
       "    </tr>\n",
       "    <tr>\n",
       "      <th>8</th>\n",
       "      <td>Belarus</td>\n",
       "    </tr>\n",
       "    <tr>\n",
       "      <th>9</th>\n",
       "      <td>São Tomé &amp; Príncipe</td>\n",
       "    </tr>\n",
       "    <tr>\n",
       "      <th>10</th>\n",
       "      <td>Belize</td>\n",
       "    </tr>\n",
       "  </tbody>\n",
       "</table>\n",
       "</div>"
      ],
      "text/plain": [
       "                  Country\n",
       "Rank                     \n",
       "1               Sri Lanka\n",
       "2                 Germany\n",
       "3                Zimbabwe\n",
       "4                  Panama\n",
       "5              Kyrgyzstan\n",
       "6                  Jordan\n",
       "7               Indonesia\n",
       "8                 Belarus\n",
       "9     São Tomé & Príncipe\n",
       "10                 Belize"
      ]
     },
     "execution_count": 29,
     "metadata": {},
     "output_type": "execute_result"
    }
   ],
   "source": [
    "df"
   ]
  },
  {
   "cell_type": "code",
   "execution_count": null,
   "metadata": {
    "collapsed": true
   },
   "outputs": [],
   "source": []
  },
  {
   "cell_type": "code",
   "execution_count": 40,
   "metadata": {
    "collapsed": true
   },
   "outputs": [],
   "source": [
    "ta_url = \"https://www.tripadvisor.com/TravelersChoice-Destinations\""
   ]
  },
  {
   "cell_type": "code",
   "execution_count": 42,
   "metadata": {
    "collapsed": true
   },
   "outputs": [],
   "source": [
    "browser.visit(ta_url)"
   ]
  },
  {
   "cell_type": "code",
   "execution_count": 43,
   "metadata": {
    "collapsed": true
   },
   "outputs": [],
   "source": [
    "#Create BeautifulSoup object and parse\n",
    "soup = bs(browser.html, 'html.parser')"
   ]
  },
  {
   "cell_type": "code",
   "execution_count": 44,
   "metadata": {
    "collapsed": true
   },
   "outputs": [],
   "source": [
    "countries = soup.find_all(class_=\"winnerName\")"
   ]
  },
  {
   "cell_type": "code",
   "execution_count": null,
   "metadata": {
    "collapsed": true
   },
   "outputs": [],
   "source": []
  },
  {
   "cell_type": "code",
   "execution_count": 35,
   "metadata": {
    "collapsed": true
   },
   "outputs": [],
   "source": [
    "for x in countries:\n",
    "    print(x.a['href'])"
   ]
  },
  {
   "cell_type": "code",
   "execution_count": 55,
   "metadata": {
    "collapsed": true
   },
   "outputs": [],
   "source": [
    "country = [x.get_text(strip=True).split(',') for x in countries]"
   ]
  },
  {
   "cell_type": "code",
   "execution_count": 52,
   "metadata": {},
   "outputs": [
    {
     "data": {
      "text/plain": [
       "[['London', ' United Kingdom'],\n",
       " ['Paris', ' France'],\n",
       " ['Rome', ' Italy'],\n",
       " ['Crete', ' Greece'],\n",
       " ['Bali', ' Indonesia'],\n",
       " ['Phuket', ' Thailand'],\n",
       " ['Barcelona', ' Spain'],\n",
       " ['Istanbul', ' Turkey'],\n",
       " ['Marrakech', ' Morocco'],\n",
       " ['Dubai', ' United Arab Emirates'],\n",
       " ['Prague', ' Czech Republic'],\n",
       " ['Siem Reap', ' Cambodia'],\n",
       " ['New York City', ' New York'],\n",
       " ['Jamaica'],\n",
       " ['Hanoi', ' Vietnam'],\n",
       " ['Tokyo', ' Japan'],\n",
       " ['Playa del Carmen', ' Mexico'],\n",
       " ['Lisbon', ' Portugal'],\n",
       " ['Kathmandu', ' Nepal'],\n",
       " ['Jaipur', ' India'],\n",
       " ['Hurghada', ' Egypt'],\n",
       " ['Hong Kong', ' China'],\n",
       " ['Cusco', ' Peru'],\n",
       " ['Sydney', ' Australia'],\n",
       " ['Tel Aviv', ' Israel']]"
      ]
     },
     "execution_count": 52,
     "metadata": {},
     "output_type": "execute_result"
    }
   ],
   "source": [
    "country"
   ]
  },
  {
   "cell_type": "code",
   "execution_count": 62,
   "metadata": {
    "collapsed": true
   },
   "outputs": [],
   "source": [
    "trvch_url = \"https://www.travelchannel.com/destinations\""
   ]
  },
  {
   "cell_type": "code",
   "execution_count": 63,
   "metadata": {
    "collapsed": true
   },
   "outputs": [],
   "source": [
    "browser.visit(trvch_url)"
   ]
  },
  {
   "cell_type": "code",
   "execution_count": 64,
   "metadata": {
    "collapsed": true
   },
   "outputs": [],
   "source": [
    "#Create BeautifulSoup object and parse\n",
    "soup = bs(browser.html, 'html.parser')"
   ]
  },
  {
   "cell_type": "code",
   "execution_count": 68,
   "metadata": {
    "collapsed": true
   },
   "outputs": [],
   "source": [
    "data = soup.find_all(class_=\"m-PromoList__a-ListItem\")"
   ]
  },
  {
   "cell_type": "code",
   "execution_count": 69,
   "metadata": {},
   "outputs": [
    {
     "name": "stdout",
     "output_type": "stream",
     "text": [
      "Alaska\n",
      "Albuquerque\n",
      "Asheville\n",
      "Atlantic City\n",
      "Austin\n",
      "Boston\n",
      "California\n",
      "Chicago\n",
      "Denver\n",
      "Destin\n",
      "Detroit\n",
      "Florida\n",
      "Gatlinburg–Pigeon Forge\n",
      "Hawaii\n",
      "Key West\n",
      "Las Vegas\n",
      "Myrtle Beach\n",
      "Nashville\n",
      "New Orleans\n",
      "Palm Springs\n",
      "Philadelphia\n",
      "Pittsburgh\n",
      "San Antonio\n",
      "Seattle\n",
      "Amsterdam\n",
      "Argentina\n",
      "Aruba\n",
      "Australia\n",
      "Austria\n",
      "Barbados\n",
      "Belize\n",
      "Caribbean\n",
      "Costa Rica\n",
      "Cuba\n",
      "Croatia\n",
      "Czech Republic\n",
      "Dominican Republic\n",
      "Dubai\n",
      "France\n",
      "Greece\n",
      "Italy\n",
      "Ireland\n",
      "Japan\n",
      "New Zealand\n",
      "Puerto Rico\n",
      "Singapore\n",
      "South Africa\n",
      "Vancouver\n",
      "Facebook\n",
      "Twitter\n",
      "Instagram\n",
      "YouTube\n",
      "Pinterest\n"
     ]
    }
   ],
   "source": [
    "for x in data:\n",
    "    print(x.get_text())"
   ]
  },
  {
   "cell_type": "code",
   "execution_count": null,
   "metadata": {
    "collapsed": true
   },
   "outputs": [],
   "source": []
  }
 ],
 "metadata": {
  "kernelspec": {
   "display_name": "Python [conda env:PythonData]",
   "language": "python",
   "name": "pythondata"
  },
  "language_info": {
   "codemirror_mode": {
    "name": "ipython",
    "version": 3
   },
   "file_extension": ".py",
   "mimetype": "text/x-python",
   "name": "python",
   "nbconvert_exporter": "python",
   "pygments_lexer": "ipython3",
   "version": "3.6.3"
  }
 },
 "nbformat": 4,
 "nbformat_minor": 2
}
